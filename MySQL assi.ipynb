{
 "cells": [
  {
   "cell_type": "raw",
   "id": "9f5c9ba5-23dd-4bdb-aa99-69c4fd52a760",
   "metadata": {},
   "source": [
    "1. \n",
    "Databases is the storage space which stores different types of data like images,audio,video and we can then fetch the same.\n",
    "SQL databases which can be fetch through sql language \n",
    "NoSQL databases which consists others language inclusion."
   ]
  },
  {
   "cell_type": "raw",
   "id": "29ef8836-84c4-4b16-94b0-d9ff18fdc1a1",
   "metadata": {},
   "source": [
    "2.\n",
    "DDL- Data Definition Language\n",
    "\n",
    "##Drop is used to delete table \n",
    "\n",
    "DROP TABLE table_name;\n",
    "\n",
    "##Create is used to make new table or column\n",
    "\n",
    "CREATE TABLE table_name(\n",
    "   column1 datatype,\n",
    "   column2 datatype,\n",
    "   .....\n",
    "   columnN datatype\n",
    ");\n",
    "\n",
    "##Alter is used to add or edit the existing table \n",
    "\n",
    "alter table my_table\n",
    "add column employed boolean;\n",
    "\n",
    "##Truncate is used to erase all content of the table\n",
    "\n",
    "truncate table my_table;\n",
    "select * from my_table;\n"
   ]
  },
  {
   "cell_type": "raw",
   "id": "71a61f98-e0d7-4871-a542-5b70e59685e2",
   "metadata": {},
   "source": [
    "3. \n",
    "DML - Data Manipulation language\n",
    "\n",
    "#Insert statement is used to insert data in a SQL table\n",
    "\n",
    "INSERT INTO table_name\n",
    "(attribute1, attribute2, ...)\n",
    "VALUES(val1, val2, ...)\n",
    "\n",
    "#Update This command is used to make changes to the data in the table.\n",
    "\n",
    "UPDATE table_name\n",
    "SET column1 = val1,\n",
    "column2 = val2,\n",
    "...\n",
    "WHERE CLAUSE;\n",
    "\n",
    "#Delete is  used to remove a row from a table.\n",
    "\n",
    "DELETE FROM table_name\n",
    "WHERE CLAUSE;\n",
    "\n"
   ]
  },
  {
   "cell_type": "raw",
   "id": "ab560683-bfc4-413a-82c2-205f04cb7588",
   "metadata": {},
   "source": [
    "4. \n",
    "DQL - Data query language\n",
    "\n",
    "Select * from tbl_name"
   ]
  },
  {
   "cell_type": "raw",
   "id": "da2d0e34-73d3-429f-beec-783998bc4055",
   "metadata": {},
   "source": [
    "5.\n",
    "Primary key - Unique key in the data table to join other tables in the relationship model\n",
    "Foreign key-it is a key in the tbl and primary key joined with it."
   ]
  },
  {
   "cell_type": "raw",
   "id": "03defc7b-b199-4317-ab9e-70f9d2d32c61",
   "metadata": {},
   "source": [
    "6. \n",
    "import mysql.connector\n",
    "# import mysql.connector\n",
    "#create user 'user'@'%' identified by 'password'\n",
    "mydb = mysql.connector.connect(\n",
    "  host=\"localhost\",\n",
    "  user=\"abc\",\n",
    "  password=\"password\"\n",
    ")\n",
    "print(mydb)\n",
    "mycursor = mydb.cursor()\n",
    "\n",
    "\n",
    "cursor() : \n",
    "Cursors allow us to process data row-by-row, which can be useful when we need to perform complex calculations or transformations on the data\n",
    "\n",
    "execute() : \n",
    "The Execute method executes a specified query, SQL statement, stored procedure, or provider-specific text"
   ]
  },
  {
   "cell_type": "raw",
   "id": "f22d1f3f-8bd5-4c21-8bdd-81b519d45e94",
   "metadata": {},
   "source": [
    "7. \n",
    "FROM/JOIN\n",
    "WHERE\n",
    "GROUP BY\n",
    "HAVING\n",
    "SELECT\n",
    "ORDER BY\n",
    "LIMIT/OFFSET"
   ]
  },
  {
   "cell_type": "code",
   "execution_count": null,
   "id": "72f457c1-55d0-4cf4-a6eb-31378b16cbed",
   "metadata": {},
   "outputs": [],
   "source": []
  }
 ],
 "metadata": {
  "kernelspec": {
   "display_name": "Python 3 (ipykernel)",
   "language": "python",
   "name": "python3"
  },
  "language_info": {
   "codemirror_mode": {
    "name": "ipython",
    "version": 3
   },
   "file_extension": ".py",
   "mimetype": "text/x-python",
   "name": "python",
   "nbconvert_exporter": "python",
   "pygments_lexer": "ipython3",
   "version": "3.10.8"
  }
 },
 "nbformat": 4,
 "nbformat_minor": 5
}
